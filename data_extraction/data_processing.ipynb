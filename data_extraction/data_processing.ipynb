{
 "cells": [
  {
   "cell_type": "markdown",
   "source": [
    "### Import required libraries for data acquisition"
   ],
   "metadata": {
    "collapsed": false,
    "pycharm": {
     "name": "#%% md\n"
    }
   }
  },
  {
   "cell_type": "code",
   "execution_count": 75,
   "metadata": {},
   "outputs": [],
   "source": [
    "import pickle\n",
    "from os import listdir, getcwd\n",
    "from os.path import dirname, abspath, join"
   ]
  },
  {
   "cell_type": "markdown",
   "source": [
    "Load Data from `.pickle` files"
   ],
   "metadata": {
    "collapsed": false,
    "pycharm": {
     "name": "#%% md\n"
    }
   }
  },
  {
   "cell_type": "code",
   "execution_count": 77,
   "metadata": {},
   "outputs": [],
   "source": [
    "data = {}\n",
    "data_dir = abspath(dirname(getcwd()))\n",
    "for f in listdir(data_dir):\n",
    "    if '.pickle' in f:\n",
    "        data_path = join(data_dir, f)\n",
    "        with open(data_path, 'rb') as fp:\n",
    "            data[data_path.split('/')[-1].split('.')[0]] = pickle.load(fp)"
   ]
  },
  {
   "cell_type": "markdown",
   "metadata": {
    "pycharm": {
     "name": "#%% md\n"
    }
   },
   "source": [
    "Convert list data to numpy array (`np.ndarray`)"
   ]
  },
  {
   "cell_type": "code",
   "execution_count": 79,
   "metadata": {},
   "outputs": [],
   "source": [
    "import numpy as np\n",
    "\n",
    "def data_to_numpy(data: list) -> np.array:\n",
    "    arr = np.empty((len(data),len(data[0]), len(data[0][0])), np.float64)\n",
    "    for i in range(len(data)):\n",
    "        for j in range(len(data[0])):\n",
    "            arr[i, j, :] = [data[i][j]['x'], data[i][j]['y'], data[i][j]['z']]\n",
    "    return arr"
   ]
  },
  {
   "cell_type": "code",
   "execution_count": 80,
   "metadata": {},
   "outputs": [
    {
     "data": {
      "text/plain": "(3590, 478, 3)"
     },
     "execution_count": 80,
     "metadata": {},
     "output_type": "execute_result"
    }
   ],
   "source": [
    "# arr_l = \n",
    "arr_l = np.concatenate((data_to_numpy(data['l_s']), data_to_numpy(data['l_ns'])), axis=0)\n",
    "arr_nl = np.concatenate((data_to_numpy(data['nl_s']), data_to_numpy(data['nl_ns'])), axis=0)"
   ]
  },
  {
   "cell_type": "code",
   "execution_count": 81,
   "metadata": {},
   "outputs": [
    {
     "data": {
      "text/plain": "(3348, 478, 3)"
     },
     "execution_count": 81,
     "metadata": {},
     "output_type": "execute_result"
    }
   ],
   "source": [
    "\n"
   ]
  },
  {
   "cell_type": "code",
   "execution_count": 82,
   "metadata": {},
   "outputs": [
    {
     "data": {
      "text/plain": "(478, 3)"
     },
     "execution_count": 82,
     "metadata": {},
     "output_type": "execute_result"
    }
   ],
   "source": [
    "X = np.concatenate((arr_l, arr_nl), axis=0)\n",
    "np.mean(X, axis=0).shape"
   ]
  },
  {
   "cell_type": "code",
   "execution_count": 83,
   "metadata": {},
   "outputs": [
    {
     "data": {
      "text/plain": "(6938,)"
     },
     "execution_count": 83,
     "metadata": {},
     "output_type": "execute_result"
    }
   ],
   "source": [
    "y = np.concatenate((np.ones(arr_l.shape[0]), np.zeros(arr_nl.shape[0])), axis=0)\n",
    "y.shape"
   ]
  },
  {
   "cell_type": "code",
   "execution_count": 84,
   "outputs": [
    {
     "data": {
      "text/plain": "(6938, 478, 3)"
     },
     "execution_count": 84,
     "metadata": {},
     "output_type": "execute_result"
    }
   ],
   "source": [
    "X.shape"
   ],
   "metadata": {
    "collapsed": false,
    "pycharm": {
     "name": "#%%\n"
    }
   }
  },
  {
   "cell_type": "code",
   "execution_count": 85,
   "metadata": {},
   "outputs": [
    {
     "data": {
      "text/plain": "(6938, 1434)"
     },
     "execution_count": 85,
     "metadata": {},
     "output_type": "execute_result"
    }
   ],
   "source": [
    "from sklearn.utils import shuffle\n",
    "from sklearn import preprocessing\n",
    "from sklearn.preprocessing import StandardScaler\n",
    "\n",
    "# scalers = {}\n",
    "# for i in range(X.shape[1]):\n",
    "#     scalers[i] = StandardScaler()\n",
    "#     X[:, i, :] = scalers[i].fit_transform(X[:, i, :])\n",
    "\n",
    "# for i in range(X_test.shape[1]):\n",
    "#     X_test[:, i, :] = scalers[i].transform(X_test[:, i, :])\n",
    "# scaler = preprocessing.StandardScaler().fit(X)\n",
    "# X = scaler.transform(X)\n",
    "X = X - np.mean(X, axis=1).reshape(X.shape[0], 1, X.shape[2])\n",
    "X = X.reshape(X.shape[0], -1)\n",
    "X.shape\n",
    "# X, y = shuffle(X, y, random_state=0)"
   ]
  },
  {
   "cell_type": "code",
   "execution_count": 86,
   "outputs": [
    {
     "data": {
      "text/plain": "array([0.4503051 , 0.47122805, 0.01132533])"
     },
     "execution_count": 86,
     "metadata": {},
     "output_type": "execute_result"
    }
   ],
   "source": [
    "scalers[i].mean_"
   ],
   "metadata": {
    "collapsed": false,
    "pycharm": {
     "name": "#%%\n"
    }
   }
  },
  {
   "cell_type": "code",
   "execution_count": 87,
   "outputs": [],
   "source": [
    "from sklearn.model_selection import train_test_split\n",
    "X_train, X_test, y_train, y_test = train_test_split(X, y, test_size=0.33, random_state=42)"
   ],
   "metadata": {
    "collapsed": false,
    "pycharm": {
     "name": "#%%\n"
    }
   }
  },
  {
   "cell_type": "code",
   "execution_count": 124,
   "outputs": [
    {
     "data": {
      "text/plain": "MLPClassifier(max_iter=300, random_state=1, tol=0.001)"
     },
     "execution_count": 123,
     "metadata": {},
     "output_type": "execute_result"
    },
    {
     "data": {
      "text/plain": "MLPClassifier(max_iter=400, random_state=1, tol=0.001)"
     },
     "execution_count": 124,
     "metadata": {},
     "output_type": "execute_result"
    }
   ],
   "source": [
    "from sklearn import svm\n",
    "from sklearn.neighbors import KNeighborsClassifier\n",
    "# from sklearn.neighbors import RadiusNeighborsClassifier\n",
    "from sklearn.neural_network import MLPClassifier\n",
    "clf = MLPClassifier(random_state=1, max_iter=400, tol=0.001).fit(X_train, y_train)\n",
    "\n",
    "from sklearn.naive_bayes import GaussianNB\n",
    "# clf = GaussianNB()\n",
    "# clf = KNeighborsClassifier(n_neighbors=3)\n",
    "# clf = RadiusNeighborsClassifier(radius=0.1)\n",
    "# clf = KDTree(X, leaf_size=2)\n",
    "# clf = svm.SVC()\n",
    "clf.fit(X_train, y_train)"
   ],
   "metadata": {
    "collapsed": false,
    "pycharm": {
     "name": "#%%\n"
    }
   }
  },
  {
   "cell_type": "code",
   "execution_count": 125,
   "outputs": [],
   "source": [
    "y_pred = clf.predict(X_test)"
   ],
   "metadata": {
    "collapsed": false,
    "pycharm": {
     "name": "#%%\n"
    }
   }
  },
  {
   "cell_type": "code",
   "execution_count": 126,
   "outputs": [
    {
     "data": {
      "text/plain": "0.9729257641921397"
     },
     "execution_count": 126,
     "metadata": {},
     "output_type": "execute_result"
    }
   ],
   "source": [
    "from sklearn.metrics import accuracy_score\n",
    "\n",
    "accuracy_score(y_test, y_pred)"
   ],
   "metadata": {
    "collapsed": false,
    "pycharm": {
     "name": "#%%\n"
    }
   }
  },
  {
   "cell_type": "code",
   "execution_count": 127,
   "outputs": [
    {
     "data": {
      "text/plain": "array([[1035,   50],\n       [  12, 1193]])"
     },
     "execution_count": 127,
     "metadata": {},
     "output_type": "execute_result"
    }
   ],
   "source": [
    "from sklearn.metrics import confusion_matrix\n",
    "confusion_matrix(y_test, y_pred)"
   ],
   "metadata": {
    "collapsed": false,
    "pycharm": {
     "name": "#%%\n"
    }
   }
  },
  {
   "cell_type": "code",
   "execution_count": null,
   "outputs": [],
   "source": [],
   "metadata": {
    "collapsed": false,
    "pycharm": {
     "name": "#%%\n"
    }
   }
  }
 ],
 "metadata": {
  "interpreter": {
   "hash": "cae9d233c8db0d0dfbeed059c897b3c940771e867b434f055c4279a5c1af1709"
  },
  "kernelspec": {
   "display_name": "Python 3.10.0 64-bit ('env': venv)",
   "language": "python",
   "name": "python3"
  },
  "language_info": {
   "codemirror_mode": {
    "name": "ipython",
    "version": 3
   },
   "file_extension": ".py",
   "mimetype": "text/x-python",
   "name": "python",
   "nbconvert_exporter": "python",
   "pygments_lexer": "ipython3",
   "version": "3.10.0"
  },
  "orig_nbformat": 4
 },
 "nbformat": 4,
 "nbformat_minor": 2
}